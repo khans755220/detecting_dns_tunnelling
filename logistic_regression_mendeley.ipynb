{
 "cells": [
  {
   "cell_type": "code",
   "execution_count": 49,
   "id": "5db5af14",
   "metadata": {},
   "outputs": [],
   "source": [
    "import pandas as pd\n",
    "import numpy as np\n",
    "from matplotlib import pyplot as plt\n",
    "import seaborn as sns\n",
    "import statsmodels.api as sm\n",
    "from sklearn.model_selection import train_test_split\n",
    "from sklearn.metrics import r2_score,mean_squared_error\n",
    "\n",
    "#dataset\n",
    "data = pd.read_csv(r'G:\\DNS Exfiltration Dataset\\Mendely\\mendeley_filtered.csv', header=None)"
   ]
  },
  {
   "cell_type": "code",
   "execution_count": 50,
   "id": "49298ce9",
   "metadata": {
    "scrolled": true
   },
   "outputs": [
    {
     "name": "stdout",
     "output_type": "stream",
     "text": [
      "<class 'pandas.core.frame.DataFrame'>\n",
      "RangeIndex: 349558 entries, 0 to 349557\n",
      "Data columns (total 22 columns):\n",
      " #   Column  Non-Null Count   Dtype  \n",
      "---  ------  --------------   -----  \n",
      " 0   0       349558 non-null  object \n",
      " 1   1       349558 non-null  object \n",
      " 2   2       349558 non-null  float64\n",
      " 3   3       349558 non-null  bool   \n",
      " 4   4       349558 non-null  object \n",
      " 5   5       349558 non-null  int64  \n",
      " 6   6       349558 non-null  int64  \n",
      " 7   7       349558 non-null  int64  \n",
      " 8   8       349558 non-null  int64  \n",
      " 9   9       349558 non-null  float64\n",
      " 10  10      349558 non-null  float64\n",
      " 11  11      349558 non-null  float64\n",
      " 12  12      349558 non-null  float64\n",
      " 13  13      349558 non-null  float64\n",
      " 14  14      349558 non-null  float64\n",
      " 15  15      349558 non-null  float64\n",
      " 16  16      349558 non-null  float64\n",
      " 17  17      349558 non-null  float64\n",
      " 18  18      349558 non-null  float64\n",
      " 19  19      349558 non-null  float64\n",
      " 20  20      349558 non-null  float64\n",
      " 21  21      349558 non-null  float64\n",
      "dtypes: bool(1), float64(14), int64(4), object(3)\n",
      "memory usage: 56.3+ MB\n"
     ]
    }
   ],
   "source": [
    "data.info()"
   ]
  },
  {
   "cell_type": "code",
   "execution_count": 51,
   "id": "dd360ae8",
   "metadata": {
    "scrolled": true
   },
   "outputs": [
    {
     "name": "stdout",
     "output_type": "stream",
     "text": [
      "(349558,)\n"
     ]
    }
   ],
   "source": [
    "x = data[[5]]\n",
    "\n",
    "label = data[3]\n",
    "\n",
    "print(label.shape)"
   ]
  },
  {
   "cell_type": "code",
   "execution_count": 52,
   "id": "a614bd17",
   "metadata": {},
   "outputs": [],
   "source": [
    "from sklearn.model_selection import train_test_split, cross_val_score\n",
    "\n",
    "X_train, X_test, y_train, y_test = train_test_split(x, label, test_size=0.35, random_state=42)\n"
   ]
  },
  {
   "cell_type": "code",
   "execution_count": 53,
   "id": "0bbd6973",
   "metadata": {},
   "outputs": [
    {
     "name": "stdout",
     "output_type": "stream",
     "text": [
      "167788\n"
     ]
    }
   ],
   "source": [
    "chunk = int(X_train.shape[0] * 0.2)\n",
    "# print(chunk)\n",
    "X_train = X_train.head(chunk)\n",
    "y_train = y_train.head(chunk)\n",
    "# X_train.head()\n",
    "# y_train.head()\n",
    "print(X_train.shape[0]+X_test.shape[0])"
   ]
  },
  {
   "cell_type": "code",
   "execution_count": 54,
   "id": "26998ec9",
   "metadata": {},
   "outputs": [],
   "source": [
    "from sklearn.preprocessing import MinMaxScaler\n",
    "\n",
    "scaler = MinMaxScaler()"
   ]
  },
  {
   "cell_type": "code",
   "execution_count": 55,
   "id": "2104d19d",
   "metadata": {},
   "outputs": [],
   "source": [
    "X_train_scaled = scaler.fit_transform(X_train)"
   ]
  },
  {
   "cell_type": "code",
   "execution_count": 56,
   "id": "fbcc4887",
   "metadata": {},
   "outputs": [],
   "source": [
    "X_test_scaled = scaler.transform(X_test)"
   ]
  },
  {
   "cell_type": "code",
   "execution_count": 57,
   "id": "c13163d2",
   "metadata": {},
   "outputs": [
    {
     "name": "stdout",
     "output_type": "stream",
     "text": [
      "training time: 0.0260009765625\n"
     ]
    }
   ],
   "source": [
    "from sklearn.linear_model import LogisticRegression\n",
    "import time\n",
    "\n",
    "model = LogisticRegression()\n",
    "scores = cross_val_score(model, X_train, y_train, cv=10)\n",
    "\n",
    "start_time = time.time()\n",
    "model.fit(X_train_scaled, y_train)\n",
    "training_time = time.time() - start_time\n",
    "print(\"training time:\", training_time) "
   ]
  },
  {
   "cell_type": "code",
   "execution_count": null,
   "id": "36314fe4",
   "metadata": {},
   "outputs": [],
   "source": []
  },
  {
   "cell_type": "code",
   "execution_count": 58,
   "id": "6c5de88b",
   "metadata": {},
   "outputs": [
    {
     "name": "stdout",
     "output_type": "stream",
     "text": [
      "testing time:  0.0020041465759277344\n",
      "accuracy: \n",
      " 0.9409379955208997\n",
      "10-fold Cross-Validation Accuracy: 0.94 (+/- 0.00)\n"
     ]
    }
   ],
   "source": [
    "from sklearn.metrics import accuracy_score\n",
    "\n",
    "start_time = time.time()\n",
    "y_pred = model.predict(X_test_scaled)\n",
    "training_time = time.time() - start_time\n",
    "print(\"testing time: \", training_time) \n",
    "accuracy = accuracy_score(y_test, y_pred)\n",
    "\n",
    "print(\"accuracy: \\n\", accuracy)\n",
    "\n",
    "print(\"10-fold Cross-Validation Accuracy: %0.2f (+/- %0.2f)\" % (scores.mean(), scores.std() * 2))"
   ]
  },
  {
   "cell_type": "code",
   "execution_count": 59,
   "id": "1f4f8e64",
   "metadata": {},
   "outputs": [],
   "source": [
    "# from sklearn.model_selection import GridSearchCV\n",
    "\n",
    "# param_grid = {'C': [0.1, 1, 10], 'solver': ['liblinear', 'lbfgs', 'saga']}\n",
    "# grid = GridSearchCV(model, param_grid, cv=5)\n",
    "# grid.fit(X_train_scaled, y_train)\n",
    "# best_model = grid.best_estimator_\n",
    "\n",
    "# best_model.fit(X_train_scaled, y_train)\n"
   ]
  },
  {
   "cell_type": "code",
   "execution_count": 60,
   "id": "9605e646",
   "metadata": {},
   "outputs": [
    {
     "name": "stdout",
     "output_type": "stream",
     "text": [
      "confusion matrix: \n",
      " [[58320  2874]\n",
      " [ 4352 56800]]\n"
     ]
    }
   ],
   "source": [
    "from sklearn.metrics import confusion_matrix\n",
    "\n",
    "print(\"confusion matrix: \\n\", confusion_matrix(y_test, y_pred))\n",
    "\n",
    "# y_pred = best_model.predict(X_test_scaled)\n",
    "# print(confusion_matrix(y_test, y_pred))\n",
    "\n"
   ]
  },
  {
   "cell_type": "code",
   "execution_count": 61,
   "id": "889af101",
   "metadata": {},
   "outputs": [
    {
     "data": {
      "text/plain": [
       "59674"
      ]
     },
     "execution_count": 61,
     "metadata": {},
     "output_type": "execute_result"
    }
   ],
   "source": [
    "np.count_nonzero(y_pred == True)"
   ]
  },
  {
   "cell_type": "code",
   "execution_count": 62,
   "id": "1e40be80",
   "metadata": {},
   "outputs": [
    {
     "data": {
      "text/plain": [
       "pandas.core.series.Series"
      ]
     },
     "execution_count": 62,
     "metadata": {},
     "output_type": "execute_result"
    }
   ],
   "source": [
    "type(y_test)"
   ]
  },
  {
   "cell_type": "code",
   "execution_count": 63,
   "id": "7e00ba76",
   "metadata": {},
   "outputs": [
    {
     "name": "stdout",
     "output_type": "stream",
     "text": [
      "61152\n"
     ]
    }
   ],
   "source": [
    "counter = 0\n",
    "\n",
    "for i in y_test:\n",
    "    if i == True:\n",
    "        counter+=1\n",
    "        \n",
    "print(counter)"
   ]
  },
  {
   "cell_type": "code",
   "execution_count": 64,
   "id": "999b73ec",
   "metadata": {},
   "outputs": [
    {
     "data": {
      "text/plain": [
       "(122346, 1)"
      ]
     },
     "execution_count": 64,
     "metadata": {},
     "output_type": "execute_result"
    }
   ],
   "source": [
    "X_test.shape"
   ]
  },
  {
   "cell_type": "code",
   "execution_count": null,
   "id": "b73dc630",
   "metadata": {},
   "outputs": [],
   "source": []
  },
  {
   "cell_type": "code",
   "execution_count": null,
   "id": "ec422f08",
   "metadata": {},
   "outputs": [],
   "source": []
  }
 ],
 "metadata": {
  "kernelspec": {
   "display_name": "Python 3 (ipykernel)",
   "language": "python",
   "name": "python3"
  },
  "language_info": {
   "codemirror_mode": {
    "name": "ipython",
    "version": 3
   },
   "file_extension": ".py",
   "mimetype": "text/x-python",
   "name": "python",
   "nbconvert_exporter": "python",
   "pygments_lexer": "ipython3",
   "version": "3.9.5"
  }
 },
 "nbformat": 4,
 "nbformat_minor": 5
}
