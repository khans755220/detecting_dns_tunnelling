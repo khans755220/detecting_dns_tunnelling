{
 "cells": [
  {
   "cell_type": "code",
   "execution_count": 13,
   "id": "1d38e2fd",
   "metadata": {},
   "outputs": [],
   "source": [
    "import pandas as pd\n",
    "import numpy as np\n",
    "from matplotlib import pyplot as plt\n",
    "import seaborn as sns\n",
    "import statsmodels.api as sm\n",
    "from sklearn.model_selection import train_test_split\n",
    "from sklearn.metrics import r2_score,mean_squared_error\n",
    "\n",
    "#open stateless datasets\n",
    "\n",
    "attack_heavy_audio = pd.read_csv(r'G:\\DNS Exfiltration Dataset\\unbca_dataset\\Attack_heavy_Benign\\Attacks\\stateless_features-heavy_audio.pcap.csv')\n",
    "attack_heavy_compressed = pd.read_csv(r'G:\\DNS Exfiltration Dataset\\unbca_dataset\\Attack_heavy_Benign\\Attacks\\stateless_features-heavy_compressed.pcap.csv')\n",
    "attack_heavy_exe = pd.read_csv(r'G:\\DNS Exfiltration Dataset\\unbca_dataset\\Attack_heavy_Benign\\Attacks\\stateless_features-heavy_exe.pcap.csv')\n",
    "attack_heavy_image = pd.read_csv(r'G:\\DNS Exfiltration Dataset\\unbca_dataset\\Attack_heavy_Benign\\Attacks\\stateless_features-heavy_image.pcap.csv')\n",
    "attack_heavy_text = pd.read_csv(r'G:\\DNS Exfiltration Dataset\\unbca_dataset\\Attack_heavy_Benign\\Attacks\\stateless_features-heavy_text.pcap.csv')\n",
    "attack_heavy_video = pd.read_csv(r'G:\\DNS Exfiltration Dataset\\unbca_dataset\\Attack_heavy_Benign\\Attacks\\stateless_features-heavy_video.pcap.csv')\n",
    "\n",
    "attack_heavy_combined = [attack_heavy_audio, attack_heavy_compressed, attack_heavy_exe, attack_heavy_image, attack_heavy_text, attack_heavy_video]\n",
    "attack_heavy_combined = pd.concat(attack_heavy_combined)\n",
    "\n",
    "is_attack = np.empty(attack_heavy_combined.shape[0]); is_attack.fill(True)\n",
    "attack_heavy_combined['is_attack'] = is_attack\n",
    "\n",
    "benign_heavy_1 = pd.read_csv(r'G:\\DNS Exfiltration Dataset\\unbca_dataset\\Attack_heavy_Benign\\Benign\\stateless_features-benign_heavy_1.pcap.csv')\n",
    "benign_heavy_2 = pd.read_csv(r'G:\\DNS Exfiltration Dataset\\unbca_dataset\\Attack_heavy_Benign\\Benign\\stateless_features-benign_heavy_2.pcap.csv')\n",
    "benign_heavy_3 = pd.read_csv(r'G:\\DNS Exfiltration Dataset\\unbca_dataset\\Attack_heavy_Benign\\Benign\\stateless_features-benign_heavy_3.pcap.csv')\n",
    "\n",
    "benign_heavy_combined = [benign_heavy_1, benign_heavy_2, benign_heavy_3]\n",
    "benign_heavy_combined = pd.concat(benign_heavy_combined)\n",
    "\n",
    "is_attack = np.empty(benign_heavy_combined.shape[0]); is_attack.fill(False)\n",
    "benign_heavy_combined['is_attack'] = is_attack\n",
    "\n",
    "\n",
    "\n",
    "attack_light_audio = pd.read_csv(r'G:\\DNS Exfiltration Dataset\\unbca_dataset\\Attack_Light_Benign\\Attacks\\stateless_features-light_audio.pcap.csv')\n",
    "attack_light_compressed = pd.read_csv(r'G:\\DNS Exfiltration Dataset\\unbca_dataset\\Attack_Light_Benign\\Attacks\\stateless_features-light_compressed.pcap.csv')\n",
    "attack_light_exe = pd.read_csv(r'G:\\DNS Exfiltration Dataset\\unbca_dataset\\Attack_Light_Benign\\Attacks\\stateless_features-light_exe.pcap.csv')\n",
    "attack_light_image = pd.read_csv(r'G:\\DNS Exfiltration Dataset\\unbca_dataset\\Attack_Light_Benign\\Attacks\\stateless_features-light_image.pcap.csv')\n",
    "attack_light_text = pd.read_csv(r'G:\\DNS Exfiltration Dataset\\unbca_dataset\\Attack_Light_Benign\\Attacks\\stateless_features-light_text.pcap.csv')\n",
    "attack_light_video = pd.read_csv(r'G:\\DNS Exfiltration Dataset\\unbca_dataset\\Attack_Light_Benign\\Attacks\\stateless_features-light_video.pcap.csv')\n",
    "\n",
    "attack_light_combined = [attack_heavy_audio, attack_heavy_compressed, attack_heavy_exe, attack_heavy_image, attack_heavy_text, attack_heavy_video]\n",
    "attack_light_combined = pd.concat(attack_light_combined)\n",
    "\n",
    "is_attack = np.empty(attack_light_combined.shape[0]); is_attack.fill(True)\n",
    "attack_light_combined['is_attack'] = is_attack\n",
    "\n",
    "benign_light_1 = pd.read_csv(r'G:\\DNS Exfiltration Dataset\\unbca_dataset\\Attack_Light_Benign\\Benign\\stateless_features-light_benign.pcap.csv')\n",
    "\n",
    "is_attack = np.empty(benign_light_1.shape[0]); is_attack.fill(False)\n",
    "benign_light_1['is_attack'] = is_attack\n",
    "\n",
    "\n",
    "benign_1 = pd.read_csv(r'G:\\DNS Exfiltration Dataset\\unbca_dataset\\Benign\\stateless_features-benign_1.pcap.csv')\n",
    "benign_2 = pd.read_csv(r'G:\\DNS Exfiltration Dataset\\unbca_dataset\\Benign\\stateless_features-benign_2.pcap.csv')\n",
    "\n",
    "benign_combined = [benign_1, benign_2]\n",
    "benign_combined = pd.concat(benign_combined)\n",
    "\n",
    "is_attack = np.empty(benign_combined.shape[0]); is_attack.fill(False)\n",
    "benign_combined['is_attack'] = is_attack"
   ]
  },
  {
   "cell_type": "code",
   "execution_count": null,
   "id": "c86b467f",
   "metadata": {},
   "outputs": [],
   "source": []
  },
  {
   "cell_type": "code",
   "execution_count": 14,
   "id": "d4bed210",
   "metadata": {},
   "outputs": [],
   "source": [
    "combined = [attack_heavy_combined, benign_heavy_combined, attack_light_combined, benign_light_1, benign_combined]\n",
    "combined_df = pd.concat(combined)"
   ]
  },
  {
   "cell_type": "code",
   "execution_count": 15,
   "id": "fef9f35d",
   "metadata": {},
   "outputs": [
    {
     "name": "stdout",
     "output_type": "stream",
     "text": [
      "<class 'pandas.core.frame.DataFrame'>\n",
      "Int64Index: 966198 entries, 0 to 88573\n",
      "Data columns (total 16 columns):\n",
      " #   Column            Non-Null Count   Dtype  \n",
      "---  ------            --------------   -----  \n",
      " 0   timestamp         966198 non-null  object \n",
      " 1   FQDN_count        966198 non-null  int64  \n",
      " 2   subdomain_length  966198 non-null  int64  \n",
      " 3   upper             966198 non-null  int64  \n",
      " 4   lower             966198 non-null  int64  \n",
      " 5   numeric           966198 non-null  int64  \n",
      " 6   entropy           966198 non-null  float64\n",
      " 7   special           966198 non-null  int64  \n",
      " 8   labels            966198 non-null  int64  \n",
      " 9   labels_max        966198 non-null  int64  \n",
      " 10  labels_average    966198 non-null  float64\n",
      " 11  longest_word      966167 non-null  object \n",
      " 12  sld               966198 non-null  object \n",
      " 13  len               966198 non-null  int64  \n",
      " 14  subdomain         966198 non-null  int64  \n",
      " 15  is_attack         966198 non-null  float64\n",
      "dtypes: float64(3), int64(10), object(3)\n",
      "memory usage: 125.3+ MB\n"
     ]
    }
   ],
   "source": [
    "combined_df.info()"
   ]
  },
  {
   "cell_type": "code",
   "execution_count": 16,
   "id": "3b1e778b",
   "metadata": {},
   "outputs": [
    {
     "name": "stdout",
     "output_type": "stream",
     "text": [
      "(966198, 1)\n",
      "(966198,)\n"
     ]
    }
   ],
   "source": [
    "x = combined_df[['len']]\n",
    "#x = data[[5]]\n",
    "print(x.shape)\n",
    "\n",
    "label = combined_df['is_attack']\n",
    "\n",
    "print(label.shape)"
   ]
  },
  {
   "cell_type": "code",
   "execution_count": 17,
   "id": "0a282617",
   "metadata": {},
   "outputs": [],
   "source": [
    "from sklearn.model_selection import train_test_split, cross_val_score\n",
    "\n",
    "X_train, X_test, y_train, y_test = train_test_split(x, label, test_size=0.35, random_state=42)"
   ]
  },
  {
   "cell_type": "code",
   "execution_count": 18,
   "id": "59e64c6d",
   "metadata": {},
   "outputs": [
    {
     "data": {
      "text/html": [
       "<div>\n",
       "<style scoped>\n",
       "    .dataframe tbody tr th:only-of-type {\n",
       "        vertical-align: middle;\n",
       "    }\n",
       "\n",
       "    .dataframe tbody tr th {\n",
       "        vertical-align: top;\n",
       "    }\n",
       "\n",
       "    .dataframe thead th {\n",
       "        text-align: right;\n",
       "    }\n",
       "</style>\n",
       "<table border=\"1\" class=\"dataframe\">\n",
       "  <thead>\n",
       "    <tr style=\"text-align: right;\">\n",
       "      <th></th>\n",
       "      <th>len</th>\n",
       "    </tr>\n",
       "  </thead>\n",
       "  <tbody>\n",
       "    <tr>\n",
       "      <th>14680</th>\n",
       "      <td>11</td>\n",
       "    </tr>\n",
       "    <tr>\n",
       "      <th>19819</th>\n",
       "      <td>11</td>\n",
       "    </tr>\n",
       "    <tr>\n",
       "      <th>3842</th>\n",
       "      <td>9</td>\n",
       "    </tr>\n",
       "    <tr>\n",
       "      <th>2143</th>\n",
       "      <td>14</td>\n",
       "    </tr>\n",
       "    <tr>\n",
       "      <th>95621</th>\n",
       "      <td>9</td>\n",
       "    </tr>\n",
       "  </tbody>\n",
       "</table>\n",
       "</div>"
      ],
      "text/plain": [
       "       len\n",
       "14680   11\n",
       "19819   11\n",
       "3842     9\n",
       "2143    14\n",
       "95621    9"
      ]
     },
     "execution_count": 18,
     "metadata": {},
     "output_type": "execute_result"
    }
   ],
   "source": [
    "chunk = int(X_train.shape[0] * 0.2)\n",
    "# print(chunk)\n",
    "X_train = X_train.head(chunk)\n",
    "y_train = y_train.head(chunk)\n",
    "X_train.head()\n",
    "# y_train.head()"
   ]
  },
  {
   "cell_type": "code",
   "execution_count": 19,
   "id": "8c6c603a",
   "metadata": {},
   "outputs": [],
   "source": [
    "from sklearn.preprocessing import StandardScaler\n",
    "\n",
    "scaler = StandardScaler()\n",
    "X_train_scaled = scaler.fit_transform(X_train)\n",
    "X_test_scaled = scaler.transform(X_test)"
   ]
  },
  {
   "cell_type": "code",
   "execution_count": 20,
   "id": "5a2639f2",
   "metadata": {},
   "outputs": [
    {
     "name": "stdout",
     "output_type": "stream",
     "text": [
      "training time: 0.06200003623962402\n"
     ]
    }
   ],
   "source": [
    "from sklearn.neighbors import KNeighborsClassifier\n",
    "import time\n",
    "\n",
    "model = KNeighborsClassifier(n_neighbors=5)\n",
    "scores = cross_val_score(model, X_train, y_train, cv=10)\n",
    "start_time = time.time()\n",
    "model.fit(X_train_scaled, y_train)\n",
    "training_time = time.time() - start_time\n",
    "print(\"training time:\", training_time) "
   ]
  },
  {
   "cell_type": "code",
   "execution_count": 21,
   "id": "084fc6c8",
   "metadata": {},
   "outputs": [
    {
     "name": "stdout",
     "output_type": "stream",
     "text": [
      "testing time:  69.67217350006104\n",
      "accuracy: \n",
      " 0.6845935476239761\n",
      "10-fold Cross-Validation Accuracy: 0.68 (+/- 0.13)\n"
     ]
    }
   ],
   "source": [
    "from sklearn.metrics import accuracy_score\n",
    "\n",
    "start_time = time.time()\n",
    "y_pred = model.predict(X_test_scaled)\n",
    "training_time = time.time() - start_time\n",
    "print(\"testing time: \", training_time) \n",
    "accuracy = accuracy_score(y_test, y_pred)\n",
    "\n",
    "print(\"accuracy: \\n\", accuracy)\n",
    "\n",
    "\n",
    "print(\"10-fold Cross-Validation Accuracy: %0.2f (+/- %0.2f)\" % (scores.mean(), scores.std() * 2))"
   ]
  },
  {
   "cell_type": "code",
   "execution_count": 22,
   "id": "0e569641",
   "metadata": {},
   "outputs": [
    {
     "name": "stdout",
     "output_type": "stream",
     "text": [
      "confusion matrix: \n",
      " [[ 80247  81967]\n",
      " [ 24694 151262]]\n"
     ]
    }
   ],
   "source": [
    "from sklearn.metrics import confusion_matrix\n",
    "\n",
    "print(\"confusion matrix: \\n\", confusion_matrix(y_test, y_pred))\n",
    "\n",
    "# y_pred = best_model.predict(X_test_scaled)\n",
    "# print(confusion_matrix(y_test, y_pred))\n",
    "\n"
   ]
  },
  {
   "cell_type": "code",
   "execution_count": 23,
   "id": "ac76de74",
   "metadata": {},
   "outputs": [
    {
     "data": {
      "text/plain": [
       "233229"
      ]
     },
     "execution_count": 23,
     "metadata": {},
     "output_type": "execute_result"
    }
   ],
   "source": [
    "np.count_nonzero(y_pred == True)"
   ]
  },
  {
   "cell_type": "code",
   "execution_count": 24,
   "id": "0ba17a3d",
   "metadata": {},
   "outputs": [
    {
     "name": "stdout",
     "output_type": "stream",
     "text": [
      "175956\n"
     ]
    }
   ],
   "source": [
    "counter = 0\n",
    "\n",
    "for i in y_test:\n",
    "    if i == True:\n",
    "        counter+=1\n",
    "        \n",
    "print(counter)"
   ]
  },
  {
   "cell_type": "code",
   "execution_count": null,
   "id": "ac482456",
   "metadata": {},
   "outputs": [],
   "source": [
    " "
   ]
  },
  {
   "cell_type": "code",
   "execution_count": null,
   "id": "5b376270",
   "metadata": {},
   "outputs": [],
   "source": []
  },
  {
   "cell_type": "code",
   "execution_count": null,
   "id": "9e3678f2",
   "metadata": {},
   "outputs": [],
   "source": []
  },
  {
   "cell_type": "code",
   "execution_count": null,
   "id": "d24359d8",
   "metadata": {},
   "outputs": [],
   "source": []
  }
 ],
 "metadata": {
  "kernelspec": {
   "display_name": "Python 3 (ipykernel)",
   "language": "python",
   "name": "python3"
  },
  "language_info": {
   "codemirror_mode": {
    "name": "ipython",
    "version": 3
   },
   "file_extension": ".py",
   "mimetype": "text/x-python",
   "name": "python",
   "nbconvert_exporter": "python",
   "pygments_lexer": "ipython3",
   "version": "3.9.5"
  }
 },
 "nbformat": 4,
 "nbformat_minor": 5
}
