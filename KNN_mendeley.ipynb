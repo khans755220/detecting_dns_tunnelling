{
 "cells": [
  {
   "cell_type": "code",
   "execution_count": 1,
   "id": "5db5af14",
   "metadata": {},
   "outputs": [],
   "source": [
    "import pandas as pd\n",
    "import numpy as np\n",
    "from matplotlib import pyplot as plt\n",
    "import seaborn as sns\n",
    "import statsmodels.api as sm\n",
    "from sklearn.model_selection import train_test_split\n",
    "from sklearn.metrics import r2_score,mean_squared_error\n",
    "\n",
    "#dataset\n",
    "data = pd.read_csv(r'G:\\DNS Exfiltration Dataset\\Mendely\\mendeley_filtered.csv', header=None)"
   ]
  },
  {
   "cell_type": "code",
   "execution_count": 2,
   "id": "49298ce9",
   "metadata": {
    "scrolled": false
   },
   "outputs": [
    {
     "data": {
      "text/html": [
       "<div>\n",
       "<style scoped>\n",
       "    .dataframe tbody tr th:only-of-type {\n",
       "        vertical-align: middle;\n",
       "    }\n",
       "\n",
       "    .dataframe tbody tr th {\n",
       "        vertical-align: top;\n",
       "    }\n",
       "\n",
       "    .dataframe thead th {\n",
       "        text-align: right;\n",
       "    }\n",
       "</style>\n",
       "<table border=\"1\" class=\"dataframe\">\n",
       "  <thead>\n",
       "    <tr style=\"text-align: right;\">\n",
       "      <th></th>\n",
       "      <th>0</th>\n",
       "      <th>1</th>\n",
       "      <th>2</th>\n",
       "      <th>3</th>\n",
       "      <th>4</th>\n",
       "      <th>5</th>\n",
       "      <th>6</th>\n",
       "      <th>7</th>\n",
       "      <th>8</th>\n",
       "      <th>9</th>\n",
       "      <th>...</th>\n",
       "      <th>12</th>\n",
       "      <th>13</th>\n",
       "      <th>14</th>\n",
       "      <th>15</th>\n",
       "      <th>16</th>\n",
       "      <th>17</th>\n",
       "      <th>18</th>\n",
       "      <th>19</th>\n",
       "      <th>20</th>\n",
       "      <th>21</th>\n",
       "    </tr>\n",
       "  </thead>\n",
       "  <tbody>\n",
       "    <tr>\n",
       "      <th>0</th>\n",
       "      <td>186.169.146.147</td>\n",
       "      <td>e5.sk</td>\n",
       "      <td>1.624440e+12</td>\n",
       "      <td>True</td>\n",
       "      <td>sebubx76xk4erpp3rwehoo3ubmbqeaqbaeaq.a.e.e5.sk</td>\n",
       "      <td>40</td>\n",
       "      <td>3</td>\n",
       "      <td>3</td>\n",
       "      <td>3</td>\n",
       "      <td>3.975071</td>\n",
       "      <td>...</td>\n",
       "      <td>0.125</td>\n",
       "      <td>0.0</td>\n",
       "      <td>2197.222222</td>\n",
       "      <td>2875.261022</td>\n",
       "      <td>48.2</td>\n",
       "      <td>53.370404</td>\n",
       "      <td>24.372977</td>\n",
       "      <td>0.0</td>\n",
       "      <td>3.691242</td>\n",
       "      <td>0.910175</td>\n",
       "    </tr>\n",
       "    <tr>\n",
       "      <th>1</th>\n",
       "      <td>186.169.146.147</td>\n",
       "      <td>e5.sk</td>\n",
       "      <td>1.624440e+12</td>\n",
       "      <td>True</td>\n",
       "      <td>4az3kiecotwu3okbtvfm7pdpcabqeaqbaeaq.a.e.e5.sk</td>\n",
       "      <td>40</td>\n",
       "      <td>3</td>\n",
       "      <td>5</td>\n",
       "      <td>3</td>\n",
       "      <td>4.146439</td>\n",
       "      <td>...</td>\n",
       "      <td>0.100</td>\n",
       "      <td>0.0</td>\n",
       "      <td>2348.444444</td>\n",
       "      <td>2779.448601</td>\n",
       "      <td>48.2</td>\n",
       "      <td>53.370404</td>\n",
       "      <td>22.803615</td>\n",
       "      <td>0.0</td>\n",
       "      <td>3.685581</td>\n",
       "      <td>0.906808</td>\n",
       "    </tr>\n",
       "    <tr>\n",
       "      <th>2</th>\n",
       "      <td>186.169.146.147</td>\n",
       "      <td>e5.sk</td>\n",
       "      <td>1.624440e+12</td>\n",
       "      <td>True</td>\n",
       "      <td>x3i2wbqsiucuviqyfaaoxz3lzybqeaqbaeaq.a.e.e5.sk</td>\n",
       "      <td>40</td>\n",
       "      <td>3</td>\n",
       "      <td>1</td>\n",
       "      <td>3</td>\n",
       "      <td>3.987326</td>\n",
       "      <td>...</td>\n",
       "      <td>0.075</td>\n",
       "      <td>0.0</td>\n",
       "      <td>2460.111111</td>\n",
       "      <td>2695.151964</td>\n",
       "      <td>51.8</td>\n",
       "      <td>51.228898</td>\n",
       "      <td>23.394454</td>\n",
       "      <td>0.0</td>\n",
       "      <td>3.884313</td>\n",
       "      <td>0.687639</td>\n",
       "    </tr>\n",
       "    <tr>\n",
       "      <th>3</th>\n",
       "      <td>186.169.127.58</td>\n",
       "      <td>e5.sk</td>\n",
       "      <td>1.624440e+12</td>\n",
       "      <td>True</td>\n",
       "      <td>ez2vzwchw3ce5m6wz6cw3nnc2ibqeaqbaeaq.a.e.e5.sk</td>\n",
       "      <td>40</td>\n",
       "      <td>3</td>\n",
       "      <td>1</td>\n",
       "      <td>3</td>\n",
       "      <td>3.893943</td>\n",
       "      <td>...</td>\n",
       "      <td>0.175</td>\n",
       "      <td>0.0</td>\n",
       "      <td>1799.222222</td>\n",
       "      <td>1935.781934</td>\n",
       "      <td>44.0</td>\n",
       "      <td>27.712813</td>\n",
       "      <td>27.170557</td>\n",
       "      <td>0.0</td>\n",
       "      <td>3.835620</td>\n",
       "      <td>0.663023</td>\n",
       "    </tr>\n",
       "    <tr>\n",
       "      <th>4</th>\n",
       "      <td>186.169.146.147</td>\n",
       "      <td>e5.sk</td>\n",
       "      <td>1.624440e+12</td>\n",
       "      <td>True</td>\n",
       "      <td>htm7xrligq2enc4lsjhkzdnd6mbqeaqbaeaq.a.e.e5.sk</td>\n",
       "      <td>40</td>\n",
       "      <td>3</td>\n",
       "      <td>3</td>\n",
       "      <td>3</td>\n",
       "      <td>4.371928</td>\n",
       "      <td>...</td>\n",
       "      <td>0.100</td>\n",
       "      <td>0.0</td>\n",
       "      <td>3105.444444</td>\n",
       "      <td>2782.422466</td>\n",
       "      <td>51.8</td>\n",
       "      <td>51.228898</td>\n",
       "      <td>18.533095</td>\n",
       "      <td>0.0</td>\n",
       "      <td>3.905225</td>\n",
       "      <td>0.700116</td>\n",
       "    </tr>\n",
       "  </tbody>\n",
       "</table>\n",
       "<p>5 rows × 22 columns</p>\n",
       "</div>"
      ],
      "text/plain": [
       "                0      1             2     3   \\\n",
       "0  186.169.146.147  e5.sk  1.624440e+12  True   \n",
       "1  186.169.146.147  e5.sk  1.624440e+12  True   \n",
       "2  186.169.146.147  e5.sk  1.624440e+12  True   \n",
       "3   186.169.127.58  e5.sk  1.624440e+12  True   \n",
       "4  186.169.146.147  e5.sk  1.624440e+12  True   \n",
       "\n",
       "                                               4   5   6   7   8         9   \\\n",
       "0  sebubx76xk4erpp3rwehoo3ubmbqeaqbaeaq.a.e.e5.sk  40   3   3   3  3.975071   \n",
       "1  4az3kiecotwu3okbtvfm7pdpcabqeaqbaeaq.a.e.e5.sk  40   3   5   3  4.146439   \n",
       "2  x3i2wbqsiucuviqyfaaoxz3lzybqeaqbaeaq.a.e.e5.sk  40   3   1   3  3.987326   \n",
       "3  ez2vzwchw3ce5m6wz6cw3nnc2ibqeaqbaeaq.a.e.e5.sk  40   3   1   3  3.893943   \n",
       "4  htm7xrligq2enc4lsjhkzdnd6mbqeaqbaeaq.a.e.e5.sk  40   3   3   3  4.371928   \n",
       "\n",
       "   ...     12   13           14           15    16         17         18   19  \\\n",
       "0  ...  0.125  0.0  2197.222222  2875.261022  48.2  53.370404  24.372977  0.0   \n",
       "1  ...  0.100  0.0  2348.444444  2779.448601  48.2  53.370404  22.803615  0.0   \n",
       "2  ...  0.075  0.0  2460.111111  2695.151964  51.8  51.228898  23.394454  0.0   \n",
       "3  ...  0.175  0.0  1799.222222  1935.781934  44.0  27.712813  27.170557  0.0   \n",
       "4  ...  0.100  0.0  3105.444444  2782.422466  51.8  51.228898  18.533095  0.0   \n",
       "\n",
       "         20        21  \n",
       "0  3.691242  0.910175  \n",
       "1  3.685581  0.906808  \n",
       "2  3.884313  0.687639  \n",
       "3  3.835620  0.663023  \n",
       "4  3.905225  0.700116  \n",
       "\n",
       "[5 rows x 22 columns]"
      ]
     },
     "execution_count": 2,
     "metadata": {},
     "output_type": "execute_result"
    }
   ],
   "source": [
    "data.head()"
   ]
  },
  {
   "cell_type": "code",
   "execution_count": null,
   "id": "8550722d",
   "metadata": {},
   "outputs": [],
   "source": []
  },
  {
   "cell_type": "code",
   "execution_count": 3,
   "id": "dd360ae8",
   "metadata": {},
   "outputs": [
    {
     "name": "stdout",
     "output_type": "stream",
     "text": [
      "(349558,)\n"
     ]
    }
   ],
   "source": [
    "x = data[[5]]\n",
    "\n",
    "\n",
    "label = data[3]\n",
    "\n",
    "print(label.shape)"
   ]
  },
  {
   "cell_type": "code",
   "execution_count": 4,
   "id": "a614bd17",
   "metadata": {},
   "outputs": [],
   "source": [
    "from sklearn.model_selection import train_test_split, cross_val_score\n",
    "\n",
    "X_train, X_test, y_train, y_test = train_test_split(x, label, test_size=0.35, random_state=42)\n"
   ]
  },
  {
   "cell_type": "code",
   "execution_count": 5,
   "id": "0bbd6973",
   "metadata": {},
   "outputs": [
    {
     "name": "stdout",
     "output_type": "stream",
     "text": [
      "167788\n"
     ]
    }
   ],
   "source": [
    "chunk = int(X_train.shape[0] * 0.2)\n",
    "# print(chunk)\n",
    "X_train = X_train.head(chunk)\n",
    "y_train = y_train.head(chunk)\n",
    "# X_train.head()\n",
    "# y_train.head()\n",
    "print(X_train.shape[0]+X_test.shape[0])"
   ]
  },
  {
   "cell_type": "code",
   "execution_count": 6,
   "id": "26998ec9",
   "metadata": {},
   "outputs": [],
   "source": [
    "from sklearn.preprocessing import StandardScaler\n",
    "\n",
    "scaler = StandardScaler()"
   ]
  },
  {
   "cell_type": "code",
   "execution_count": 7,
   "id": "2104d19d",
   "metadata": {},
   "outputs": [],
   "source": [
    "X_train_scaled = scaler.fit_transform(X_train)"
   ]
  },
  {
   "cell_type": "code",
   "execution_count": 8,
   "id": "fbcc4887",
   "metadata": {},
   "outputs": [],
   "source": [
    "X_test_scaled = scaler.transform(X_test)"
   ]
  },
  {
   "cell_type": "code",
   "execution_count": 9,
   "id": "c13163d2",
   "metadata": {},
   "outputs": [
    {
     "name": "stdout",
     "output_type": "stream",
     "text": [
      "training time: 0.017999887466430664\n"
     ]
    }
   ],
   "source": [
    "from sklearn.neighbors import KNeighborsClassifier\n",
    "import time\n",
    "\n",
    "model = KNeighborsClassifier(n_neighbors=5)\n",
    "scores = cross_val_score(model, X_train, y_train, cv=10)\n",
    "\n",
    "\n",
    "start_time = time.time()\n",
    "model.fit(X_train_scaled, y_train)\n",
    "training_time = time.time() - start_time\n",
    "print(\"training time:\", training_time) "
   ]
  },
  {
   "cell_type": "code",
   "execution_count": null,
   "id": "36314fe4",
   "metadata": {},
   "outputs": [],
   "source": []
  },
  {
   "cell_type": "code",
   "execution_count": null,
   "id": "6c5de88b",
   "metadata": {},
   "outputs": [],
   "source": []
  },
  {
   "cell_type": "code",
   "execution_count": 10,
   "id": "1f4f8e64",
   "metadata": {},
   "outputs": [],
   "source": [
    "# from sklearn.model_selection import GridSearchCV\n",
    "\n",
    "# param_grid = {'C': [0.1, 1, 10], 'solver': ['liblinear', 'lbfgs', 'saga']}\n",
    "# grid = GridSearchCV(model, param_grid, cv=5)\n",
    "# grid.fit(X_train_scaled, y_train)\n",
    "# best_model = grid.best_estimator_\n",
    "\n",
    "# best_model.fit(X_train_scaled, y_train)\n"
   ]
  },
  {
   "cell_type": "code",
   "execution_count": 11,
   "id": "9605e646",
   "metadata": {},
   "outputs": [
    {
     "name": "stdout",
     "output_type": "stream",
     "text": [
      "testing time:  8.197997808456421\n",
      "accuracy: \n",
      " 0.9784463734000294\n",
      "10-fold Cross-Validation Accuracy: 0.98 (+/- 0.00)\n"
     ]
    }
   ],
   "source": [
    "from sklearn.metrics import accuracy_score\n",
    "\n",
    "start_time = time.time()\n",
    "y_pred = model.predict(X_test_scaled)\n",
    "training_time = time.time() - start_time\n",
    "print(\"testing time: \", training_time) \n",
    "accuracy = accuracy_score(y_test, y_pred)\n",
    "\n",
    "print(\"accuracy: \\n\", accuracy)\n",
    "\n",
    "print(\"10-fold Cross-Validation Accuracy: %0.2f (+/- %0.2f)\" % (scores.mean(), scores.std() * 2))"
   ]
  },
  {
   "cell_type": "code",
   "execution_count": 12,
   "id": "72582742",
   "metadata": {},
   "outputs": [
    {
     "name": "stdout",
     "output_type": "stream",
     "text": [
      "confusion matrix: \n",
      " [[59332  1862]\n",
      " [  775 60377]]\n"
     ]
    }
   ],
   "source": [
    "from sklearn.metrics import confusion_matrix\n",
    "\n",
    "print(\"confusion matrix: \\n\", confusion_matrix(y_test, y_pred))\n"
   ]
  },
  {
   "cell_type": "code",
   "execution_count": 13,
   "id": "889af101",
   "metadata": {},
   "outputs": [
    {
     "data": {
      "text/plain": [
       "62239"
      ]
     },
     "execution_count": 13,
     "metadata": {},
     "output_type": "execute_result"
    }
   ],
   "source": [
    "np.count_nonzero(y_pred == True)"
   ]
  },
  {
   "cell_type": "code",
   "execution_count": 14,
   "id": "1e40be80",
   "metadata": {},
   "outputs": [
    {
     "data": {
      "text/plain": [
       "pandas.core.series.Series"
      ]
     },
     "execution_count": 14,
     "metadata": {},
     "output_type": "execute_result"
    }
   ],
   "source": [
    "type(y_test)"
   ]
  },
  {
   "cell_type": "code",
   "execution_count": 15,
   "id": "7e00ba76",
   "metadata": {},
   "outputs": [
    {
     "name": "stdout",
     "output_type": "stream",
     "text": [
      "61152\n"
     ]
    }
   ],
   "source": [
    "counter = 0\n",
    "\n",
    "for i in y_test:\n",
    "    if i == True:\n",
    "        counter+=1\n",
    "        \n",
    "print(counter)"
   ]
  },
  {
   "cell_type": "code",
   "execution_count": null,
   "id": "999b73ec",
   "metadata": {},
   "outputs": [],
   "source": []
  },
  {
   "cell_type": "code",
   "execution_count": null,
   "id": "26aba97f",
   "metadata": {},
   "outputs": [],
   "source": []
  },
  {
   "cell_type": "code",
   "execution_count": null,
   "id": "6984cb67",
   "metadata": {},
   "outputs": [],
   "source": []
  },
  {
   "cell_type": "code",
   "execution_count": null,
   "id": "9d599472",
   "metadata": {},
   "outputs": [],
   "source": []
  },
  {
   "cell_type": "code",
   "execution_count": null,
   "id": "c5ba5f92",
   "metadata": {},
   "outputs": [],
   "source": []
  }
 ],
 "metadata": {
  "kernelspec": {
   "display_name": "Python 3 (ipykernel)",
   "language": "python",
   "name": "python3"
  },
  "language_info": {
   "codemirror_mode": {
    "name": "ipython",
    "version": 3
   },
   "file_extension": ".py",
   "mimetype": "text/x-python",
   "name": "python",
   "nbconvert_exporter": "python",
   "pygments_lexer": "ipython3",
   "version": "3.9.5"
  }
 },
 "nbformat": 4,
 "nbformat_minor": 5
}
