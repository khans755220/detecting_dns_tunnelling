{
 "cells": [
  {
   "cell_type": "code",
   "execution_count": 1,
   "id": "5db5af14",
   "metadata": {},
   "outputs": [
    {
     "name": "stderr",
     "output_type": "stream",
     "text": [
      "c:\\python39\\lib\\site-packages\\IPython\\core\\interactiveshell.py:3398: DtypeWarning: Columns (47) have mixed types.Specify dtype option on import or set low_memory=False.\n",
      "  exec(code_obj, self.user_global_ns, self.user_ns)\n"
     ]
    }
   ],
   "source": [
    "import pandas as pd\n",
    "import numpy as np\n",
    "from matplotlib import pyplot as plt\n",
    "import seaborn as sns\n",
    "import statsmodels.api as sm\n",
    "from sklearn.model_selection import train_test_split\n",
    "from sklearn.metrics import r2_score,mean_squared_error\n",
    "\n",
    "#dataset\n",
    "data = pd.read_csv(r'G:\\DNS Exfiltration Dataset\\UNSW-NB15 Dataset\\UNSW-NB15_50split.csv', header=None)"
   ]
  },
  {
   "cell_type": "code",
   "execution_count": 2,
   "id": "49298ce9",
   "metadata": {},
   "outputs": [
    {
     "name": "stdout",
     "output_type": "stream",
     "text": [
      "<class 'pandas.core.frame.DataFrame'>\n",
      "RangeIndex: 421262 entries, 0 to 421261\n",
      "Data columns (total 49 columns):\n",
      " #   Column  Non-Null Count   Dtype  \n",
      "---  ------  --------------   -----  \n",
      " 0   0       421262 non-null  object \n",
      " 1   1       421262 non-null  int64  \n",
      " 2   2       421262 non-null  object \n",
      " 3   3       421262 non-null  int64  \n",
      " 4   4       421262 non-null  object \n",
      " 5   5       421262 non-null  object \n",
      " 6   6       421262 non-null  float64\n",
      " 7   7       421262 non-null  int64  \n",
      " 8   8       421262 non-null  int64  \n",
      " 9   9       421262 non-null  int64  \n",
      " 10  10      421262 non-null  int64  \n",
      " 11  11      421262 non-null  int64  \n",
      " 12  12      421262 non-null  int64  \n",
      " 13  13      421262 non-null  object \n",
      " 14  14      421262 non-null  float64\n",
      " 15  15      421262 non-null  float64\n",
      " 16  16      421262 non-null  int64  \n",
      " 17  17      421262 non-null  int64  \n",
      " 18  18      421262 non-null  int64  \n",
      " 19  19      421262 non-null  int64  \n",
      " 20  20      421262 non-null  int64  \n",
      " 21  21      421262 non-null  int64  \n",
      " 22  22      421262 non-null  int64  \n",
      " 23  23      421262 non-null  int64  \n",
      " 24  24      421262 non-null  int64  \n",
      " 25  25      421262 non-null  int64  \n",
      " 26  26      421262 non-null  float64\n",
      " 27  27      421262 non-null  float64\n",
      " 28  28      421262 non-null  int64  \n",
      " 29  29      421262 non-null  int64  \n",
      " 30  30      421262 non-null  float64\n",
      " 31  31      421262 non-null  float64\n",
      " 32  32      421262 non-null  float64\n",
      " 33  33      421262 non-null  float64\n",
      " 34  34      421262 non-null  float64\n",
      " 35  35      421262 non-null  int64  \n",
      " 36  36      421262 non-null  int64  \n",
      " 37  37      193512 non-null  float64\n",
      " 38  38      193512 non-null  float64\n",
      " 39  39      0 non-null       float64\n",
      " 40  40      421262 non-null  int64  \n",
      " 41  41      421262 non-null  int64  \n",
      " 42  42      421262 non-null  int64  \n",
      " 43  43      421262 non-null  int64  \n",
      " 44  44      421262 non-null  int64  \n",
      " 45  45      421262 non-null  int64  \n",
      " 46  46      421262 non-null  int64  \n",
      " 47  47      210631 non-null  object \n",
      " 48  48      421262 non-null  int64  \n",
      "dtypes: float64(13), int64(30), object(6)\n",
      "memory usage: 157.5+ MB\n"
     ]
    }
   ],
   "source": [
    "data.info()"
   ]
  },
  {
   "cell_type": "code",
   "execution_count": 3,
   "id": "dd360ae8",
   "metadata": {},
   "outputs": [
    {
     "name": "stdout",
     "output_type": "stream",
     "text": [
      "(421262,)\n"
     ]
    }
   ],
   "source": [
    "x = data[[22]]\n",
    "\n",
    "\n",
    "label = data[48]\n",
    "\n",
    "print(label.shape)"
   ]
  },
  {
   "cell_type": "code",
   "execution_count": 4,
   "id": "845cee02",
   "metadata": {},
   "outputs": [],
   "source": [
    "#seperate training and testing data\n",
    "from sklearn.model_selection import train_test_split, cross_val_score\n",
    "\n",
    "X_train, X_test, y_train, y_test = train_test_split(x, label, test_size=0.35, random_state=45)\n"
   ]
  },
  {
   "cell_type": "code",
   "execution_count": 5,
   "id": "c0b3ccd5",
   "metadata": {},
   "outputs": [],
   "source": [
    "# chunk = int(X_train.shape[0] * 0.8)\n",
    "# # print(chunk)\n",
    "# X_train = X_train.head(chunk)\n",
    "# y_train = y_train.head(chunk)\n",
    "# # X_train.head()\n",
    "# # y_train.head()\n",
    "# print(X_train.shape[0]+X_test.shape[0])"
   ]
  },
  {
   "cell_type": "code",
   "execution_count": 6,
   "id": "514e287c",
   "metadata": {},
   "outputs": [],
   "source": [
    "#scale that data\n",
    "from sklearn.preprocessing import StandardScaler\n",
    "\n",
    "scaler = StandardScaler()"
   ]
  },
  {
   "cell_type": "code",
   "execution_count": 7,
   "id": "ca67ce09",
   "metadata": {},
   "outputs": [],
   "source": [
    "X_train_scaled = scaler.fit_transform(X_train)"
   ]
  },
  {
   "cell_type": "code",
   "execution_count": 8,
   "id": "5c1c167b",
   "metadata": {},
   "outputs": [],
   "source": [
    "X_test_scaled = scaler.transform(X_test)"
   ]
  },
  {
   "cell_type": "code",
   "execution_count": null,
   "id": "00701cf3",
   "metadata": {},
   "outputs": [],
   "source": [
    "#apply the model and calculate the training time\n",
    "from sklearn import svm\n",
    "import time\n",
    "\n",
    "model = svm.SVC(kernel='linear')\n",
    "scores = cross_val_score(model, X_train, y_train, cv=10)\n",
    "\n",
    "\n",
    "\n",
    "start_time = time.time()\n",
    "model.fit(X_train_scaled, y_train)\n",
    "training_time = time.time() - start_time\n",
    "print(\"training time:\", training_time) "
   ]
  },
  {
   "cell_type": "code",
   "execution_count": null,
   "id": "01a3c472",
   "metadata": {},
   "outputs": [],
   "source": []
  },
  {
   "cell_type": "code",
   "execution_count": null,
   "id": "d61d30aa",
   "metadata": {},
   "outputs": [],
   "source": [
    "#find accuracy\n",
    "from sklearn.metrics import accuracy_score\n",
    "\n",
    "start_time = time.time()\n",
    "y_pred = model.predict(X_test_scaled)\n",
    "training_time = time.time() - start_time\n",
    "print(\"testing time: \", training_time) \n",
    "accuracy = accuracy_score(y_test, y_pred)\n",
    "\n",
    "print(\"accuracy: \\n\", accuracy)\n",
    "\n",
    "print(\"10-fold Cross-Validation Accuracy: %0.2f (+/- %0.2f)\" % (scores.mean(), scores.std() * 2))"
   ]
  },
  {
   "cell_type": "code",
   "execution_count": null,
   "id": "39b0e7d3",
   "metadata": {},
   "outputs": [],
   "source": []
  },
  {
   "cell_type": "code",
   "execution_count": null,
   "id": "22abc82b",
   "metadata": {},
   "outputs": [],
   "source": [
    "#display results\n",
    "from sklearn.metrics import confusion_matrix\n",
    "\n",
    "print(\"confusion matrix: \\n\", confusion_matrix(y_test, y_pred))"
   ]
  },
  {
   "cell_type": "code",
   "execution_count": null,
   "id": "c5404d60",
   "metadata": {},
   "outputs": [],
   "source": [
    "np.count_nonzero(y_pred == True)"
   ]
  },
  {
   "cell_type": "code",
   "execution_count": null,
   "id": "10ecce12",
   "metadata": {},
   "outputs": [],
   "source": [
    "counter = 0\n",
    "\n",
    "for i in y_test:\n",
    "    if i == True:\n",
    "        counter+=1\n",
    "        \n",
    "print(counter)"
   ]
  },
  {
   "cell_type": "code",
   "execution_count": null,
   "id": "4477201b",
   "metadata": {},
   "outputs": [],
   "source": []
  }
 ],
 "metadata": {
  "kernelspec": {
   "display_name": "Python 3 (ipykernel)",
   "language": "python",
   "name": "python3"
  },
  "language_info": {
   "codemirror_mode": {
    "name": "ipython",
    "version": 3
   },
   "file_extension": ".py",
   "mimetype": "text/x-python",
   "name": "python",
   "nbconvert_exporter": "python",
   "pygments_lexer": "ipython3",
   "version": "3.9.5"
  }
 },
 "nbformat": 4,
 "nbformat_minor": 5
}
